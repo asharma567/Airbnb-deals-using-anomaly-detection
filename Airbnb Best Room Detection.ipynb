{
 "metadata": {
  "name": "",
  "signature": "sha256:ef00c5dde6bee2541c00d0e7497e3da17c8fc8e8c0ab578e060c6e53806a3dfa"
 },
 "nbformat": 3,
 "nbformat_minor": 0,
 "worksheets": [
  {
   "cells": [
    {
     "cell_type": "code",
     "collapsed": false,
     "input": [
      "from sklearn import linear_model\n",
      "from sklearn.ensemble import RandomForestRegressor\n",
      "from sklearn.ensemble import GradientBoostingRegressor\n",
      "from sklearn.svm import SVR\n",
      "import pandas as pd\n",
      "import numpy as np\n",
      "from pandas.tools.plotting import scatter_matrix\n",
      "from sklearn.preprocessing import StandardScaler\n",
      "from sklearn import cross_validation\n",
      "import seaborn as sns\n",
      "%pylab inline"
     ],
     "language": "python",
     "metadata": {},
     "outputs": [
      {
       "output_type": "stream",
       "stream": "stdout",
       "text": [
        "Populating the interactive namespace from numpy and matplotlib\n"
       ]
      },
      {
       "output_type": "stream",
       "stream": "stderr",
       "text": [
        "WARNING: pylab import has clobbered these variables: ['indices']\n",
        "`%matplotlib` prevents importing * from pylab and numpy\n"
       ]
      }
     ],
     "prompt_number": 446
    },
    {
     "cell_type": "markdown",
     "metadata": {},
     "source": [
      "##Preprocess the Data"
     ]
    },
    {
     "cell_type": "code",
     "collapsed": false,
     "input": [
      "# This is Airbnb listing data from Washington, DC.\n",
      "# https://github.com/cameronmaske/geo-dc/blob/master/datasets/airbnb/airbnb.csv\n",
      "\n",
      "df = pd.read_csv('data/airbnb.csv')\n",
      "\n",
      "df.head(2)"
     ],
     "language": "python",
     "metadata": {},
     "outputs": [
      {
       "html": [
        "<div style=\"max-height:1000px;max-width:1500px;overflow:auto;\">\n",
        "<table border=\"1\" class=\"dataframe\">\n",
        "  <thead>\n",
        "    <tr style=\"text-align: right;\">\n",
        "      <th></th>\n",
        "      <th>bathrooms</th>\n",
        "      <th>description</th>\n",
        "      <th>price per accommodates</th>\n",
        "      <th>price</th>\n",
        "      <th>bedrooms</th>\n",
        "      <th>longitude</th>\n",
        "      <th>price per bedroom</th>\n",
        "      <th>neighbourhood</th>\n",
        "      <th>bed_type</th>\n",
        "      <th>accommodates</th>\n",
        "      <th>url</th>\n",
        "      <th>latitude</th>\n",
        "      <th>room_type</th>\n",
        "    </tr>\n",
        "  </thead>\n",
        "  <tbody>\n",
        "    <tr>\n",
        "      <th>0</th>\n",
        "      <td>NaN</td>\n",
        "      <td> Sun-flooded. Downtown Washington DC. Stunning ...</td>\n",
        "      <td> 45</td>\n",
        "      <td> 90</td>\n",
        "      <td> 1</td>\n",
        "      <td>-77.034015</td>\n",
        "      <td> 90</td>\n",
        "      <td> 502</td>\n",
        "      <td> Real Bed</td>\n",
        "      <td> 2</td>\n",
        "      <td> https://www.airbnb.co.uk/rooms/1116509</td>\n",
        "      <td> 38.906079</td>\n",
        "      <td> Entire home/flat</td>\n",
        "    </tr>\n",
        "    <tr>\n",
        "      <th>1</th>\n",
        "      <td>NaN</td>\n",
        "      <td> Large private room with private bathroom in 2 ...</td>\n",
        "      <td> 32</td>\n",
        "      <td> 64</td>\n",
        "      <td> 1</td>\n",
        "      <td>-77.028911</td>\n",
        "      <td> 64</td>\n",
        "      <td> 502</td>\n",
        "      <td> Real Bed</td>\n",
        "      <td> 2</td>\n",
        "      <td> https://www.airbnb.co.uk/rooms/1170249</td>\n",
        "      <td> 38.907214</td>\n",
        "      <td>     Private room</td>\n",
        "    </tr>\n",
        "  </tbody>\n",
        "</table>\n",
        "</div>"
       ],
       "metadata": {},
       "output_type": "pyout",
       "prompt_number": 447,
       "text": [
        "   bathrooms                                        description  \\\n",
        "0        NaN  Sun-flooded. Downtown Washington DC. Stunning ...   \n",
        "1        NaN  Large private room with private bathroom in 2 ...   \n",
        "\n",
        "   price per accommodates  price  bedrooms  longitude  price per bedroom  \\\n",
        "0                      45     90         1 -77.034015                 90   \n",
        "1                      32     64         1 -77.028911                 64   \n",
        "\n",
        "   neighbourhood  bed_type  accommodates  \\\n",
        "0            502  Real Bed             2   \n",
        "1            502  Real Bed             2   \n",
        "\n",
        "                                      url   latitude         room_type  \n",
        "0  https://www.airbnb.co.uk/rooms/1116509  38.906079  Entire home/flat  \n",
        "1  https://www.airbnb.co.uk/rooms/1170249  38.907214      Private room  "
       ]
      }
     ],
     "prompt_number": 447
    },
    {
     "cell_type": "code",
     "collapsed": false,
     "input": [
      "df['price per bedroom'].describe()"
     ],
     "language": "python",
     "metadata": {},
     "outputs": [
      {
       "metadata": {},
       "output_type": "pyout",
       "prompt_number": 448,
       "text": [
        "count     870.000000\n",
        "mean       94.083659\n",
        "std       188.883257\n",
        "min         7.250000\n",
        "25%        49.000000\n",
        "50%        64.000000\n",
        "75%        84.000000\n",
        "max      2099.000000\n",
        "dtype: float64"
       ]
      }
     ],
     "prompt_number": 448
    },
    {
     "cell_type": "code",
     "collapsed": false,
     "input": [
      "print 'Number of NaNs: ', abs(df['price per bedroom'].describe()['count'] - len(df['price per bedroom']))"
     ],
     "language": "python",
     "metadata": {},
     "outputs": [
      {
       "output_type": "stream",
       "stream": "stdout",
       "text": [
        "Number of NaNs:  22.0\n"
       ]
      }
     ],
     "prompt_number": 449
    },
    {
     "cell_type": "code",
     "collapsed": false,
     "input": [
      "delta_series = df['price'] - df['price per bedroom']\n",
      "\n",
      "#there aren't too many the differ, making Price a good column to fill the NaNs with\n",
      "delta_series.describe()"
     ],
     "language": "python",
     "metadata": {},
     "outputs": [
      {
       "metadata": {},
       "output_type": "pyout",
       "prompt_number": 450,
       "text": [
        "count     870.000000\n",
        "mean       23.326686\n",
        "std       131.231254\n",
        "min         0.000000\n",
        "25%         0.000000\n",
        "50%         0.000000\n",
        "75%         0.000000\n",
        "max      2842.666667\n",
        "dtype: float64"
       ]
      }
     ],
     "prompt_number": 450
    },
    {
     "cell_type": "code",
     "collapsed": false,
     "input": [
      "df[df['price per bedroom'].apply(np.isnan) == True]['price per bedroom']"
     ],
     "language": "python",
     "metadata": {},
     "outputs": [
      {
       "metadata": {},
       "output_type": "pyout",
       "prompt_number": 451,
       "text": [
        "56    NaN\n",
        "386   NaN\n",
        "426   NaN\n",
        "486   NaN\n",
        "492   NaN\n",
        "498   NaN\n",
        "512   NaN\n",
        "527   NaN\n",
        "594   NaN\n",
        "607   NaN\n",
        "611   NaN\n",
        "616   NaN\n",
        "637   NaN\n",
        "710   NaN\n",
        "721   NaN\n",
        "729   NaN\n",
        "730   NaN\n",
        "748   NaN\n",
        "764   NaN\n",
        "785   NaN\n",
        "811   NaN\n",
        "886   NaN\n",
        "Name: price per bedroom, dtype: float64"
       ]
      }
     ],
     "prompt_number": 451
    },
    {
     "cell_type": "code",
     "collapsed": false,
     "input": [
      "# Filling in the NaNs with the price field and creating a new series\n",
      "# Will be used as a target variable\n",
      "\n",
      "df['target'] = df['price per bedroom'].replace(np.nan, df['price'])\n",
      "df['target'].describe()"
     ],
     "language": "python",
     "metadata": {},
     "outputs": [
      {
       "metadata": {},
       "output_type": "pyout",
       "prompt_number": 452,
       "text": [
        "count     892.000000\n",
        "mean       93.497515\n",
        "std       186.595509\n",
        "min         6.000000\n",
        "25%        49.000000\n",
        "50%        64.000000\n",
        "75%        84.000000\n",
        "max      2099.000000\n",
        "dtype: float64"
       ]
      }
     ],
     "prompt_number": 452
    },
    {
     "cell_type": "markdown",
     "metadata": {},
     "source": [
      "####Deleting fields we don't need"
     ]
    },
    {
     "cell_type": "code",
     "collapsed": false,
     "input": [
      "# It's possible to vectorize the description via TF-IDF or BoW\n",
      "del df['description']\n",
      "\n",
      "#not populated\n",
      "del df['bathrooms']\n",
      "\n",
      "#irrelevent i.e. no signal\n",
      "del df['url']\n",
      "del df['price per accommodates']\n",
      "del df['price']\n",
      "del df['price per bedroom']"
     ],
     "language": "python",
     "metadata": {},
     "outputs": [],
     "prompt_number": 453
    },
    {
     "cell_type": "code",
     "collapsed": false,
     "input": [
      "def dummy_it(input_df):\n",
      "    '''\n",
      "    INPUT: DF (feature matrix) with categorical columns\n",
      "    OUTPUT: DF (feature matrix) with dummy variables as categorical columns\n",
      "    \n",
      "    criterion: checks if it's a float or integer series, if not \n",
      "    it will dummitize it. So, becareful with unstructured text columns.\n",
      "    '''\n",
      "    \n",
      "    output_df = pd.DataFrame() \n",
      "    for col in input_df.columns:\n",
      "        if input_df[col].dtype == 'float64' or input_df[col].dtype == 'int64':\n",
      "            output_df = pd.concat( [output_df, input_df[col]], axis=1 )\n",
      "        else:\n",
      "            output_df = pd.concat( [output_df, pd.get_dummies(input_df[col]) ], axis=1 )\n",
      "    \n",
      "    return output_df\n",
      "\n",
      "df_cleaned_dummitized = dummy_it(df)\n",
      "df_cleaned_dummitized[:2]"
     ],
     "language": "python",
     "metadata": {},
     "outputs": [
      {
       "html": [
        "<div style=\"max-height:1000px;max-width:1500px;overflow:auto;\">\n",
        "<table border=\"1\" class=\"dataframe\">\n",
        "  <thead>\n",
        "    <tr style=\"text-align: right;\">\n",
        "      <th></th>\n",
        "      <th>bedrooms</th>\n",
        "      <th>longitude</th>\n",
        "      <th>neighbourhood</th>\n",
        "      <th>Airbed</th>\n",
        "      <th>Futon</th>\n",
        "      <th>Pull-out Sofa</th>\n",
        "      <th>Real Bed</th>\n",
        "      <th>Sofa</th>\n",
        "      <th>accommodates</th>\n",
        "      <th>latitude</th>\n",
        "      <th>Entire home/flat</th>\n",
        "      <th>Private room</th>\n",
        "      <th>Shared room</th>\n",
        "      <th>target</th>\n",
        "    </tr>\n",
        "  </thead>\n",
        "  <tbody>\n",
        "    <tr>\n",
        "      <th>0</th>\n",
        "      <td> 1</td>\n",
        "      <td>-77.034015</td>\n",
        "      <td> 502</td>\n",
        "      <td> 0</td>\n",
        "      <td> 0</td>\n",
        "      <td> 0</td>\n",
        "      <td> 1</td>\n",
        "      <td> 0</td>\n",
        "      <td> 2</td>\n",
        "      <td> 38.906079</td>\n",
        "      <td> 1</td>\n",
        "      <td> 0</td>\n",
        "      <td> 0</td>\n",
        "      <td> 90</td>\n",
        "    </tr>\n",
        "    <tr>\n",
        "      <th>1</th>\n",
        "      <td> 1</td>\n",
        "      <td>-77.028911</td>\n",
        "      <td> 502</td>\n",
        "      <td> 0</td>\n",
        "      <td> 0</td>\n",
        "      <td> 0</td>\n",
        "      <td> 1</td>\n",
        "      <td> 0</td>\n",
        "      <td> 2</td>\n",
        "      <td> 38.907214</td>\n",
        "      <td> 0</td>\n",
        "      <td> 1</td>\n",
        "      <td> 0</td>\n",
        "      <td> 64</td>\n",
        "    </tr>\n",
        "  </tbody>\n",
        "</table>\n",
        "</div>"
       ],
       "metadata": {},
       "output_type": "pyout",
       "prompt_number": 454,
       "text": [
        "   bedrooms  longitude  neighbourhood  Airbed  Futon  Pull-out Sofa  Real Bed  \\\n",
        "0         1 -77.034015            502       0      0              0         1   \n",
        "1         1 -77.028911            502       0      0              0         1   \n",
        "\n",
        "   Sofa  accommodates   latitude  Entire home/flat  Private room  Shared room  \\\n",
        "0     0             2  38.906079                 1             0            0   \n",
        "1     0             2  38.907214                 0             1            0   \n",
        "\n",
        "   target  \n",
        "0      90  \n",
        "1      64  "
       ]
      }
     ],
     "prompt_number": 454
    },
    {
     "cell_type": "code",
     "collapsed": false,
     "input": [
      "# scatter_matrix(df_cleaned_dummitized, alpha=0.2, figsize=(16, 16), diagonal='kde');"
     ],
     "language": "python",
     "metadata": {},
     "outputs": [],
     "prompt_number": 455
    },
    {
     "cell_type": "code",
     "collapsed": false,
     "input": [
      "def get_scores(classifier, X_train, X_test, y_train, y_test, **kwargs):\n",
      "    model = classifier(**kwargs)\n",
      "    model.fit(X_train, y_train)\n",
      "    y_predict = model.predict(X_test)\n",
      "    return model.score(X_test, y_test), \\\n",
      "           precision_score(y_test, y_predict), \\\n",
      "           recall_score(y_test, y_predict)\n",
      "        \n"
     ],
     "language": "python",
     "metadata": {},
     "outputs": [],
     "prompt_number": 456
    },
    {
     "cell_type": "code",
     "collapsed": false,
     "input": [
      "df_cleaned_dummitized['target'].hist(bins=50)"
     ],
     "language": "python",
     "metadata": {},
     "outputs": [
      {
       "metadata": {},
       "output_type": "pyout",
       "prompt_number": 457,
       "text": [
        "<matplotlib.axes.AxesSubplot at 0x113965ed0>"
       ]
      },
      {
       "metadata": {},
       "output_type": "display_data",
       "png": "[encoded data removed]",
       "text": [
        "<matplotlib.figure.Figure at 0x10ed36250>"
       ]
      }
     ],
     "prompt_number": 457
    },
    {
     "cell_type": "code",
     "collapsed": false,
     "input": [
      "# Creating the appropriate target variable as we prepare to insert into ML model\n",
      "y = df_cleaned_dummitized.pop('target')\n",
      "X = df_cleaned_dummitized\n",
      "\n",
      "# 0 mean and unit variance!\n",
      "X_scaled = StandardScaler().fit_transform(df_cleaned_dummitized)\n",
      "y_scaled = StandardScaler().fit_transform(y)\n",
      "\n",
      "# feature names\n",
      "names = df_cleaned_dummitized.columns.tolist()"
     ],
     "language": "python",
     "metadata": {},
     "outputs": [],
     "prompt_number": 458
    },
    {
     "cell_type": "code",
     "collapsed": false,
     "input": [
      "X_train, X_test, y_train, y_test = cross_validation.train_test_split(X, y, test_size=0.3)\n",
      "X_train_scaled, X_test_scaled, y_train_scaled, y_test_scaled = cross_validation.train_test_split(X, y, test_size=0.3)\n",
      "\n",
      "LR = linear_model.LinearRegression()\n",
      "LR_norm = linear_model.LinearRegression(normalize=True)\n",
      "LR_l1 = linear_model.Lasso(alpha=.5)\n",
      "LR_l2 = linear_model.Ridge(alpha=.5)\n",
      "RF = RandomForestRegressor()\n",
      "SVR = SVR()\n",
      "GBR_ls = GradientBoostingRegressor(loss='ls')\n",
      "GBR_huber = GradientBoostingRegressor(loss='huber')\n",
      "\n",
      "#Does scaling help?\n",
      "LR.fit(X_train, y_train.ravel())\n",
      "print 'Not Scaled: ', LR.score(X_test, y_test)\n",
      "\n",
      "LR.fit(X_train_scaled, y_train_scaled.ravel())\n",
      "print 'Scaled: ', LR.score(X_test_scaled, y_test_scaled)"
     ],
     "language": "python",
     "metadata": {},
     "outputs": [
      {
       "output_type": "stream",
       "stream": "stdout",
       "text": [
        "Not Scaled:  -0.0677286497966\n",
        "Scaled:  -0.00645040396708\n"
       ]
      }
     ],
     "prompt_number": 459
    },
    {
     "cell_type": "code",
     "collapsed": false,
     "input": [
      "def model_score(model, X, y, scoring_metric = 'r2'):\n",
      "        return np.mean(cross_validation.cross_val_score( model, X, y, scoring=scoring_metric, cv=5))\n",
      "\n",
      "#Loop needed\n",
      "print '5 Fold CV Score: ', model_score(LR, X_train_scaled, y_train_scaled.ravel(), 'mean_squared_error')\n",
      "print '5 Fold CV Score: ', model_score(LR_norm, X_train_scaled, y_train_scaled.ravel(), 'mean_squared_error')\n",
      "print '5 Fold CV Score: ', model_score(LR_l1, X_train_scaled, y_train_scaled.ravel(), 'mean_squared_error')\n",
      "print '5 Fold CV Score: ', model_score(LR_l2, X_train_scaled, y_train_scaled.ravel(), 'mean_squared_error')\n",
      "print '5 Fold CV Score: ', model_score(RF, X_train_scaled, y_train_scaled.ravel(), 'mean_squared_error')\n",
      "print '5 Fold CV Score: ', model_score(SVR, X_train_scaled, y_train_scaled.ravel(), 'mean_squared_error')\n",
      "print '5 Fold CV Score: ', model_score(GBR_ls, X_train_scaled, y_train_scaled.ravel(), 'mean_squared_error')\n",
      "print '5 Fold CV Score: ', model_score(GBR_huber, X_train_scaled, y_train_scaled.ravel(), 'mean_squared_error')"
     ],
     "language": "python",
     "metadata": {},
     "outputs": [
      {
       "output_type": "stream",
       "stream": "stdout",
       "text": [
        "5 Fold CV Score:  -1.17580246186\n",
        "5 Fold CV Score:  -1.09474638256e+25\n",
        "5 Fold CV Score:  -1.17507446555\n",
        "5 Fold CV Score:  "
       ]
      },
      {
       "output_type": "stream",
       "stream": "stdout",
       "text": [
        "-1.17357398347\n",
        "5 Fold CV Score:  "
       ]
      },
      {
       "output_type": "stream",
       "stream": "stdout",
       "text": [
        "-1.47305196269\n",
        "5 Fold CV Score:  "
       ]
      },
      {
       "output_type": "stream",
       "stream": "stdout",
       "text": [
        "-1.20826733761\n",
        "5 Fold CV Score:  "
       ]
      },
      {
       "output_type": "stream",
       "stream": "stdout",
       "text": [
        "-1.27307050188\n",
        "5 Fold CV Score:  "
       ]
      },
      {
       "output_type": "stream",
       "stream": "stdout",
       "text": [
        "-1.26417727857\n"
       ]
      }
     ],
     "prompt_number": 460
    },
    {
     "cell_type": "code",
     "collapsed": false,
     "input": [
      "GBR_huber.fit(X_scaled, y_scaled)\n",
      "# sort importances\n",
      "indices = np.argsort(GBR_huber.feature_importances_)\n",
      "\n",
      "# plot as bar chart\n",
      "plt.barh(np.arange(len(names)), GBR_huber.feature_importances_[indices])\n",
      "plt.yticks(np.arange(len(names)) + 0.25, np.array(names)[indices])\n",
      "_ = plt.xlabel('Relative importance')"
     ],
     "language": "python",
     "metadata": {},
     "outputs": [
      {
       "metadata": {},
       "output_type": "display_data",
       "png": "[encoded data removed]",
       "text": [
        "<matplotlib.figure.Figure at 0x1029c6650>"
       ]
      }
     ],
     "prompt_number": 463
    },
    {
     "cell_type": "code",
     "collapsed": false,
     "input": [
      "y_hat = GBR_huber.predict(X_scaled)\n",
      "residuals = y_scaled - y_hat\n",
      "\n",
      "#sorting such that the negative residuals are on top\n",
      "indices = np.argsort(residuals)\n",
      "\n",
      "# now that we have the optimal indices\n",
      "# we apply it our original DF\n",
      "# returning to us the top five largest negative outliers (residual)\n",
      "# best prices\n",
      "df.ix[indices,:][:5]"
     ],
     "language": "python",
     "metadata": {},
     "outputs": [
      {
       "html": [
        "<div style=\"max-height:1000px;max-width:1500px;overflow:auto;\">\n",
        "<table border=\"1\" class=\"dataframe\">\n",
        "  <thead>\n",
        "    <tr style=\"text-align: right;\">\n",
        "      <th></th>\n",
        "      <th>bedrooms</th>\n",
        "      <th>longitude</th>\n",
        "      <th>neighbourhood</th>\n",
        "      <th>bed_type</th>\n",
        "      <th>accommodates</th>\n",
        "      <th>latitude</th>\n",
        "      <th>room_type</th>\n",
        "      <th>target</th>\n",
        "    </tr>\n",
        "  </thead>\n",
        "  <tbody>\n",
        "    <tr>\n",
        "      <th>780</th>\n",
        "      <td> 1</td>\n",
        "      <td>-77.048827</td>\n",
        "      <td> 856</td>\n",
        "      <td> Real Bed</td>\n",
        "      <td> 4</td>\n",
        "      <td> 38.911273</td>\n",
        "      <td> Entire home/flat</td>\n",
        "      <td> 52</td>\n",
        "    </tr>\n",
        "    <tr>\n",
        "      <th>650</th>\n",
        "      <td> 1</td>\n",
        "      <td>-77.050793</td>\n",
        "      <td> 860</td>\n",
        "      <td> Real Bed</td>\n",
        "      <td> 2</td>\n",
        "      <td> 38.900335</td>\n",
        "      <td> Entire home/flat</td>\n",
        "      <td> 58</td>\n",
        "    </tr>\n",
        "    <tr>\n",
        "      <th>337</th>\n",
        "      <td> 1</td>\n",
        "      <td>-77.051849</td>\n",
        "      <td> 872</td>\n",
        "      <td> Real Bed</td>\n",
        "      <td> 3</td>\n",
        "      <td> 38.902821</td>\n",
        "      <td> Entire home/flat</td>\n",
        "      <td> 64</td>\n",
        "    </tr>\n",
        "    <tr>\n",
        "      <th>282</th>\n",
        "      <td> 2</td>\n",
        "      <td>-76.999377</td>\n",
        "      <td> 898</td>\n",
        "      <td> Real Bed</td>\n",
        "      <td> 4</td>\n",
        "      <td> 38.894859</td>\n",
        "      <td> Entire home/flat</td>\n",
        "      <td> 32</td>\n",
        "    </tr>\n",
        "    <tr>\n",
        "      <th>601</th>\n",
        "      <td> 1</td>\n",
        "      <td>-77.035664</td>\n",
        "      <td> 502</td>\n",
        "      <td> Real Bed</td>\n",
        "      <td> 2</td>\n",
        "      <td> 38.905586</td>\n",
        "      <td> Entire home/flat</td>\n",
        "      <td> 51</td>\n",
        "    </tr>\n",
        "  </tbody>\n",
        "</table>\n",
        "</div>"
       ],
       "metadata": {},
       "output_type": "pyout",
       "prompt_number": 485,
       "text": [
        "     bedrooms  longitude  neighbourhood  bed_type  accommodates   latitude  \\\n",
        "780         1 -77.048827            856  Real Bed             4  38.911273   \n",
        "650         1 -77.050793            860  Real Bed             2  38.900335   \n",
        "337         1 -77.051849            872  Real Bed             3  38.902821   \n",
        "282         2 -76.999377            898  Real Bed             4  38.894859   \n",
        "601         1 -77.035664            502  Real Bed             2  38.905586   \n",
        "\n",
        "            room_type  target  \n",
        "780  Entire home/flat      52  \n",
        "650  Entire home/flat      58  \n",
        "337  Entire home/flat      64  \n",
        "282  Entire home/flat      32  \n",
        "601  Entire home/flat      51  "
       ]
      }
     ],
     "prompt_number": 485
    },
    {
     "cell_type": "code",
     "collapsed": false,
     "input": [
      "# grid search for the best params\n",
      "\n",
      "# compare results"
     ],
     "language": "python",
     "metadata": {},
     "outputs": []
    },
    {
     "cell_type": "code",
     "collapsed": false,
     "input": [
      "# Notice the loss function which is robust to outliers yields the best results"
     ],
     "language": "python",
     "metadata": {},
     "outputs": []
    }
   ],
   "metadata": {}
  }
 ]
}